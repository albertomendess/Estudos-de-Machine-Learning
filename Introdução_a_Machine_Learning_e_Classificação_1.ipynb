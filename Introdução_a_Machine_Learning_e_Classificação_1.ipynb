{
  "nbformat": 4,
  "nbformat_minor": 0,
  "metadata": {
    "colab": {
      "name": "Introdução a Machine Learning e Classificação - 1.ipynb",
      "provenance": [],
      "authorship_tag": "ABX9TyPYg6+8OQEaMQd6gIwH9D6u",
      "include_colab_link": true
    },
    "kernelspec": {
      "name": "python3",
      "display_name": "Python 3"
    },
    "language_info": {
      "name": "python"
    }
  },
  "cells": [
    {
      "cell_type": "markdown",
      "metadata": {
        "id": "view-in-github",
        "colab_type": "text"
      },
      "source": [
        "<a href=\"https://colab.research.google.com/github/albertomendess/Estudos-de-Machine-Learning/blob/main/Introdu%C3%A7%C3%A3o_a_Machine_Learning_e_Classifica%C3%A7%C3%A3o_1.ipynb\" target=\"_parent\"><img src=\"https://colab.research.google.com/assets/colab-badge.svg\" alt=\"Open In Colab\"/></a>"
      ]
    },
    {
      "cell_type": "code",
      "metadata": {
        "id": "c3fYSAK5Vpy4"
      },
      "source": [
        "# Features (1 sim, 0 não)\n",
        "# Pelo longo?\n",
        "# Perna curta?\n",
        "# Faz auau?\n",
        "\n",
        "porco_1 = [0, 1, 0]\n",
        "porco_2 = [0, 1, 1]\n",
        "porco_3 = [1, 1, 0]\n",
        "\n",
        "cachorro_1 = [0, 1, 1]\n",
        "cachorro_2 = [1, 0, 1]\n",
        "cachorro_3 = [1, 1, 1]\n",
        "\n",
        "# 1 => porco, 0 => cachorro\n",
        "dados = [porco_1, porco_2, porco_3, cachorro_1, cachorro_2, cachorro_3]\n",
        "classes = [1,1,1,0,0,0]"
      ],
      "execution_count": 2,
      "outputs": []
    },
    {
      "cell_type": "code",
      "metadata": {
        "colab": {
          "base_uri": "https://localhost:8080/"
        },
        "id": "lJA0eaY2XDNC",
        "outputId": "311a986b-f752-4595-8700-845eda7d923b"
      },
      "source": [
        "from sklearn.svm import LinearSVC\n",
        "\n",
        "model = LinearSVC()\n",
        "model.fit(dados, classes)"
      ],
      "execution_count": 3,
      "outputs": [
        {
          "output_type": "execute_result",
          "data": {
            "text/plain": [
              "LinearSVC(C=1.0, class_weight=None, dual=True, fit_intercept=True,\n",
              "          intercept_scaling=1, loss='squared_hinge', max_iter=1000,\n",
              "          multi_class='ovr', penalty='l2', random_state=None, tol=0.0001,\n",
              "          verbose=0)"
            ]
          },
          "metadata": {
            "tags": []
          },
          "execution_count": 3
        }
      ]
    },
    {
      "cell_type": "code",
      "metadata": {
        "colab": {
          "base_uri": "https://localhost:8080/"
        },
        "id": "K5Or0zE_Yb8A",
        "outputId": "754940af-0867-4c63-a7a0-1842e31d7d91"
      },
      "source": [
        "animal_misterioso = [1, 1, 1]\n",
        "model.predict([animal_misterioso])"
      ],
      "execution_count": 5,
      "outputs": [
        {
          "output_type": "execute_result",
          "data": {
            "text/plain": [
              "array([0])"
            ]
          },
          "metadata": {
            "tags": []
          },
          "execution_count": 5
        }
      ]
    },
    {
      "cell_type": "code",
      "metadata": {
        "id": "inMCw-Q0YuB1"
      },
      "source": [
        "animal_x = [1, 1, 1]\n",
        "animal_y = [1, 1, 0]\n",
        "animal_z = [0, 1, 1]\n",
        "\n",
        "testes = [animal_x, animal_y, animal_z]\n",
        "previsoes = model.predict(testes)"
      ],
      "execution_count": 7,
      "outputs": []
    },
    {
      "cell_type": "code",
      "metadata": {
        "id": "IJ3PfPkmZWz3"
      },
      "source": [
        "testes_classes = [0, 1, 1]"
      ],
      "execution_count": 8,
      "outputs": []
    },
    {
      "cell_type": "code",
      "metadata": {
        "colab": {
          "base_uri": "https://localhost:8080/"
        },
        "id": "ju0CQ1_iZ7Pt",
        "outputId": "5d76fcd1-9b8c-485f-97b6-28b5979cff1e"
      },
      "source": [
        "previsoes"
      ],
      "execution_count": 9,
      "outputs": [
        {
          "output_type": "execute_result",
          "data": {
            "text/plain": [
              "array([0, 1, 0])"
            ]
          },
          "metadata": {
            "tags": []
          },
          "execution_count": 9
        }
      ]
    },
    {
      "cell_type": "code",
      "metadata": {
        "colab": {
          "base_uri": "https://localhost:8080/"
        },
        "id": "LN4QnjSXZ9_d",
        "outputId": "9429d184-14a9-458b-9f90-6265ca6dcc04"
      },
      "source": [
        "testes_classes"
      ],
      "execution_count": 10,
      "outputs": [
        {
          "output_type": "execute_result",
          "data": {
            "text/plain": [
              "[0, 1, 1]"
            ]
          },
          "metadata": {
            "tags": []
          },
          "execution_count": 10
        }
      ]
    },
    {
      "cell_type": "code",
      "metadata": {
        "colab": {
          "base_uri": "https://localhost:8080/"
        },
        "id": "bUoOvtOmZ_1r",
        "outputId": "c61390c8-b0ff-4516-c8d3-0d9cfab6d0fc"
      },
      "source": [
        "corretos = (previsoes == testes_classes).sum()\n",
        "total = len(testes)\n",
        "taxa_de_acerto = corretos / total\n",
        "print(f\"Taxa de acerto: {(taxa_de_acerto * 100).round(1)}%\")"
      ],
      "execution_count": 20,
      "outputs": [
        {
          "output_type": "stream",
          "text": [
            "Taxa de acerto: 66.7%\n"
          ],
          "name": "stdout"
        }
      ]
    },
    {
      "cell_type": "code",
      "metadata": {
        "colab": {
          "base_uri": "https://localhost:8080/"
        },
        "id": "g2JjPsEmaD_H",
        "outputId": "e0b9fc3d-e0c8-4da7-b8c4-223c888d98a1"
      },
      "source": [
        "from sklearn.metrics import accuracy_score\n",
        "\n",
        "taxa_de_acerto = accuracy_score(testes_classes, previsoes)\n",
        "print(f\"Taxa de acerto: {(taxa_de_acerto * 100).round(1)}%\")"
      ],
      "execution_count": 21,
      "outputs": [
        {
          "output_type": "stream",
          "text": [
            "Taxa de acerto: 66.7%\n"
          ],
          "name": "stdout"
        }
      ]
    },
    {
      "cell_type": "code",
      "metadata": {
        "id": "-wtupWSobwm_"
      },
      "source": [
        ""
      ],
      "execution_count": null,
      "outputs": []
    }
  ]
}